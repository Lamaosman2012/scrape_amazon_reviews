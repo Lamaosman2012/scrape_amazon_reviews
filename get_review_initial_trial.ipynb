{
 "cells": [
  {
   "cell_type": "code",
   "execution_count": 13,
   "metadata": {},
   "outputs": [],
   "source": [
    "import requests\n",
    "from bs4 import BeautifulSoup"
   ]
  },
  {
   "cell_type": "code",
   "execution_count": 14,
   "metadata": {},
   "outputs": [
    {
     "name": "stdout",
     "output_type": "stream",
     "text": [
      "<!--\n",
      "        To discuss automated access to Amazon data please contact api-services-support@amazon.com.\n",
      "        For information about migrating to our APIs refer to our Marketplace APIs at https://developer.amazonservices.com/ref=rm_5_sv, or our Product Advertising API at https://affiliate-program.amazon.com/gp/advertising/api/detail/main.html/ref=rm_5_ac for advertising use cases.\n",
      "-->\n",
      "<!doctype html>\n",
      "<html>\n",
      "<head>\n",
      "  <meta charset=\"utf-8\">\n",
      "  <meta http-equiv=\"x-ua-compatible\" content=\"ie=edge\">\n",
      "  <meta name=\"viewport\" content=\"width=device-width, initial-scale=1, shrink-to-fit=no\">\n",
      "  <title>Sorry! Something went wrong!</title>\n",
      "  <style>\n",
      "  html, body {\n",
      "    padding: 0;\n",
      "    margin: 0\n",
      "  }\n",
      "\n",
      "  img {\n",
      "    border: 0\n",
      "  }\n",
      "\n",
      "  #a {\n",
      "    background: #232f3e;\n",
      "    padding: 11px 11px 11px 192px\n",
      "  }\n",
      "\n",
      "  #b {\n",
      "    position: absolute;\n",
      "    left: 22px;\n",
      "    top: 12px\n",
      "  }\n",
      "\n",
      "  #c {\n",
      "    position: relative;\n",
      "    max-width: 800px;\n",
      "    padding: 0 40px 0 0\n",
      "  }\n",
      "\n",
      "  #e, #f {\n",
      "    height: 35px;\n",
      "    border: 0;\n",
      "    font-size: 1em\n",
      "  }\n",
      "\n",
      "  #e {\n",
      "    width: 100%;\n",
      "    margin: 0;\n",
      "    padding: 0 10px;\n",
      "    border-radius: 4px 0 0 4px\n",
      "  }\n",
      "\n",
      "  #f {\n",
      "    cursor: pointer;\n",
      "    background: #febd69;\n",
      "    font-weight: bold;\n",
      "    border-radius: 0 4px 4px 0;\n",
      "    -webkit-appearance: none;\n",
      "    position: absolute;\n",
      "    top: 0;\n",
      "    right: 0;\n",
      "    padding: 0 12px\n",
      "  }\n",
      "\n",
      "  @media (max-width: 500px) {\n",
      "    #a {\n",
      "      padding: 55px 10px 10px\n",
      "    }\n",
      "\n",
      "    #b {\n",
      "      left: 6px\n",
      "    }\n",
      "  }\n",
      "\n",
      "  #g {\n",
      "    text-align: center;\n",
      "    margin: 30px 0\n",
      "  }\n",
      "\n",
      "  #g img {\n",
      "    max-width: 90%\n",
      "  }\n",
      "\n",
      "  #d {\n",
      "    display: none\n",
      "  }\n",
      "\n",
      "  #d[src] {\n",
      "    display: inline\n",
      "  }\n",
      "  </style>\n",
      "</head>\n",
      "<body>\n",
      "    <a href=\"/ref=cs_503_logo\"><img id=\"b\" src=\"https://images-na.ssl-images-amazon.com/images/G/01/error/logo._TTD_.png\" alt=\"Amazon.com\"></a>\n",
      "    <form id=\"a\" accept-charset=\"utf-8\" action=\"/s\" method=\"GET\" role=\"search\">\n",
      "        <div id=\"c\">\n",
      "            <input id=\"e\" name=\"field-keywords\" placeholder=\"Search\">\n",
      "            <input name=\"ref\" type=\"hidden\" value=\"cs_503_search\">\n",
      "            <input id=\"f\" type=\"submit\" value=\"Go\">\n",
      "        </div>\n",
      "    </form>\n",
      "<div id=\"g\">\n",
      "  <div><a href=\"/ref=cs_503_link\"><img src=\"https://images-na.ssl-images-amazon.com/images/G/01/error/500_503.png\"\n",
      "                                        alt=\"Sorry! Something went wrong on our end. Please go back and try again or go to Amazon's home page.\"></a>\n",
      "  </div>\n",
      "  <a href=\"/dogsofamazon/ref=cs_503_d\" target=\"_blank\" rel=\"noopener noreferrer\"><img id=\"d\" alt=\"Dogs of Amazon\"></a>\n",
      "  <script>document.getElementById(\"d\").src = \"https://images-na.ssl-images-amazon.com/images/G/01/error/\" + (Math.floor(Math.random() * 43) + 1) + \"._TTD_.jpg\";</script>\n",
      "</div>\n",
      "</body>\n",
      "</html>\n",
      "\n"
     ]
    }
   ],
   "source": [
    "URL = \"https://www.amazon.com/Galanz-GLR16FS2K16-Refrigerator-Adjustable-Electrical/dp/B08QVPBFCS/ref=sr_1_4?crid=SU89OHS4KPMI&keywords=fridge&qid=1663609187&sprefix=fridge%2Caps%2C365&sr=8-4\"\n",
    "page = requests.get(URL)\n",
    "\n",
    "print(page.text)"
   ]
  },
  {
   "cell_type": "code",
   "execution_count": 15,
   "metadata": {},
   "outputs": [],
   "source": [
    "headers = { \"user-agent\" : \"\"} "
   ]
  },
  {
   "cell_type": "code",
   "execution_count": 16,
   "metadata": {},
   "outputs": [
    {
     "name": "stdout",
     "output_type": "stream",
     "text": [
      "<!DOCTYPE html>\n",
      "<!--[if lt IE 7]> <html lang=\"en-us\" class=\"a-no-js a-lt-ie9 a-lt-ie8 a-lt-ie7\"> <![endif]-->\n",
      "<!--[if IE 7]>    <html lang=\"en-us\" class=\"a-no-js a-lt-ie9 a-lt-ie8\"> <![endif]-->\n",
      "<!--[if IE 8]>    <html lang=\"en-us\" class=\"a-no-js a-lt-ie9\"> <![endif]-->\n",
      "<!--[if gt IE 8]><!-->\n",
      "<html class=\"a-no-js\" lang=\"en-us\"><!--<![endif]--><head>\n",
      "<meta http-equiv=\"content-type\" content=\"text/html; charset=UTF-8\">\n",
      "<meta charset=\"utf-8\">\n",
      "<meta http-equiv=\"X-UA-Compatible\" content=\"IE=edge,chrome=1\">\n",
      "<title dir=\"ltr\">Amazon.com</title>\n",
      "<meta name=\"viewport\" content=\"width=device-width\">\n",
      "<link rel=\"stylesheet\" href=\"https://images-na.ssl-images-amazon.com/images/G/01/AUIClients/AmazonUI-3c913031596ca78a3768f4e934b1cc02ce238101.secure.min._V1_.css\">\n",
      "<script>\n",
      "\n",
      "if (true === true) {\n",
      "    var ue_t0 = (+ new Date()),\n",
      "        ue_csm = window,\n",
      "        ue = { t0: ue_t0, d: function() { return (+new Date() - ue_t0); } },\n",
      "        ue_furl = \"fls-na.amazon.com\",\n",
      "        ue_mid = \"ATVPDKIKX0DER\",\n",
      "        ue_sid = (document.cookie.match(/session-id=([0-9-]+)/) || [])[1],\n",
      "        ue_sn = \"opfcaptcha.amazon.com\",\n",
      "        ue_id = 'MENAWYDD5A5D56J475K7';\n",
      "}\n",
      "</script>\n",
      "</head>\n",
      "<body>\n",
      "\n",
      "<!--\n",
      "        To discuss automated access to Amazon data please contact api-services-support@amazon.com.\n",
      "        For information about migrating to our APIs refer to our Marketplace APIs at https://developer.amazonservices.com/ref=rm_c_sv, or our Product Advertising API at https://affiliate-program.amazon.com/gp/advertising/api/detail/main.html/ref=rm_c_ac for advertising use cases.\n",
      "-->\n",
      "\n",
      "<!--\n",
      "Correios.DoNotSend\n",
      "-->\n",
      "\n",
      "<div class=\"a-container a-padding-double-large\" style=\"min-width:350px;padding:44px 0 !important\">\n",
      "\n",
      "    <div class=\"a-row a-spacing-double-large\" style=\"width: 350px; margin: 0 auto\">\n",
      "\n",
      "        <div class=\"a-row a-spacing-medium a-text-center\"><i class=\"a-icon a-logo\"></i></div>\n",
      "\n",
      "        <div class=\"a-box a-alert a-alert-info a-spacing-base\">\n",
      "            <div class=\"a-box-inner\">\n",
      "                <i class=\"a-icon a-icon-alert\"></i>\n",
      "                <h4>Enter the characters you see below</h4>\n",
      "                <p class=\"a-last\">Sorry, we just need to make sure you're not a robot. For best results, please make sure your browser is accepting cookies.</p>\n",
      "                </div>\n",
      "            </div>\n",
      "\n",
      "            <div class=\"a-section\">\n",
      "\n",
      "                <div class=\"a-box a-color-offset-background\">\n",
      "                    <div class=\"a-box-inner a-padding-extra-large\">\n",
      "\n",
      "                        <form method=\"get\" action=\"/errors/validateCaptcha\" name=\"\">\n",
      "                            <input type=hidden name=\"amzn\" value=\"d/+BMZxNnF13crSuZ8PauQ==\" /><input type=hidden name=\"amzn-r\" value=\"&#047;Galanz&#045;GLR16FS2K16&#045;Refrigerator&#045;Adjustable&#045;Electrical&#047;dp&#047;B08QVPBFCS&#047;ref&#061;sr_1_4?crid&#061;SU89OHS4KPMI&amp;keywords&#061;fridge&amp;qid&#061;1663609187&amp;sprefix&#061;fridge&#037;2Caps&#037;2C365&amp;sr&#061;8&#045;4\" />\n",
      "                            <div class=\"a-row a-spacing-large\">\n",
      "                                <div class=\"a-box\">\n",
      "                                    <div class=\"a-box-inner\">\n",
      "                                        <h4>Type the characters you see in this image:</h4>\n",
      "                                        <div class=\"a-row a-text-center\">\n",
      "                                            <img src=\"https://images-na.ssl-images-amazon.com/captcha/cdkxpfei/Captcha_timzpgsrqw.jpg\">\n",
      "                                        </div>\n",
      "                                        <div class=\"a-row a-spacing-base\">\n",
      "                                            <div class=\"a-row\">\n",
      "                                                <div class=\"a-column a-span6\">\n",
      "                                                </div>\n",
      "                                                <div class=\"a-column a-span6 a-span-last a-text-right\">\n",
      "                                                    <a onclick=\"window.location.reload()\">Try different image</a>\n",
      "                                                </div>\n",
      "                                            </div>\n",
      "                                            <input autocomplete=\"off\" spellcheck=\"false\" placeholder=\"Type characters\" id=\"captchacharacters\" name=\"field-keywords\" class=\"a-span12\" autocapitalize=\"off\" autocorrect=\"off\" type=\"text\">\n",
      "                                        </div>\n",
      "                                    </div>\n",
      "                                </div>\n",
      "                            </div>\n",
      "\n",
      "                            <div class=\"a-section a-spacing-extra-large\">\n",
      "\n",
      "                                <div class=\"a-row\">\n",
      "                                    <span class=\"a-button a-button-primary a-span12\">\n",
      "                                        <span class=\"a-button-inner\">\n",
      "                                            <button type=\"submit\" class=\"a-button-text\">Continue shopping</button>\n",
      "                                        </span>\n",
      "                                    </span>\n",
      "                                </div>\n",
      "\n",
      "                            </div>\n",
      "                        </form>\n",
      "\n",
      "                    </div>\n",
      "                </div>\n",
      "\n",
      "            </div>\n",
      "\n",
      "        </div>\n",
      "\n",
      "        <div class=\"a-divider a-divider-section\"><div class=\"a-divider-inner\"></div></div>\n",
      "\n",
      "        <div class=\"a-text-center a-spacing-small a-size-mini\">\n",
      "            <a href=\"https://www.amazon.com/gp/help/customer/display.html/ref=footer_cou?ie=UTF8&nodeId=508088\">Conditions of Use</a>\n",
      "            <span class=\"a-letter-space\"></span>\n",
      "            <span class=\"a-letter-space\"></span>\n",
      "            <span class=\"a-letter-space\"></span>\n",
      "            <span class=\"a-letter-space\"></span>\n",
      "            <a href=\"https://www.amazon.com/gp/help/customer/display.html/ref=footer_privacy?ie=UTF8&nodeId=468496\">Privacy Policy</a>\n",
      "        </div>\n",
      "        <div class=\"a-text-center a-size-mini a-color-secondary\">\n",
      "          &copy; 1996-2014, Amazon.com, Inc. or its affiliates\n",
      "          <script>\n",
      "           if (true === true) {\n",
      "             document.write('<img src=\"https://fls-na.amaz'+'on.com/'+'1/oc-csi/1/OP/requestId=MENAWYDD5A5D56J475K7&js=1\" />');\n",
      "           };\n",
      "          </script>\n",
      "          <noscript>\n",
      "            <img src=\"https://fls-na.amazon.com/1/oc-csi/1/OP/requestId=MENAWYDD5A5D56J475K7&js=0\" />\n",
      "          </noscript>\n",
      "        </div>\n",
      "    </div>\n",
      "    <script>\n",
      "    if (true === true) {\n",
      "        var head = document.getElementsByTagName('head')[0],\n",
      "            prefix = \"https://images-na.ssl-images-amazon.com/images/G/01/csminstrumentation/\",\n",
      "            elem = document.createElement(\"script\");\n",
      "        elem.src = prefix + \"csm-captcha-instrumentation.min.js\";\n",
      "        head.appendChild(elem);\n",
      "\n",
      "        elem = document.createElement(\"script\");\n",
      "        elem.src = prefix + \"rd-script-6d68177fa6061598e9509dc4b5bdd08d.js\";\n",
      "        head.appendChild(elem);\n",
      "    }\n",
      "    </script>\n",
      "</body></html>\n",
      "\n"
     ]
    }
   ],
   "source": [
    "page = requests.get(URL, headers=headers) \n",
    "print(page.text)"
   ]
  },
  {
   "cell_type": "code",
   "execution_count": 17,
   "metadata": {},
   "outputs": [],
   "source": [
    "soup = BeautifulSoup(page.content, \"html.parser\")"
   ]
  },
  {
   "cell_type": "markdown",
   "metadata": {},
   "source": [
    "Beautiful Soup allows you to find that specific HTML element by its ID:"
   ]
  },
  {
   "cell_type": "code",
   "execution_count": 18,
   "metadata": {},
   "outputs": [
    {
     "name": "stdout",
     "output_type": "stream",
     "text": [
      "None\n"
     ]
    }
   ],
   "source": [
    "results = soup.find(id=\"cm-cr-dp-review-header\")\n",
    "print(results)"
   ]
  },
  {
   "cell_type": "markdown",
   "metadata": {},
   "source": [
    "HTML contained within the div:"
   ]
  },
  {
   "cell_type": "code",
   "execution_count": 19,
   "metadata": {},
   "outputs": [],
   "source": [
    "#print(results.prettify())"
   ]
  },
  {
   "cell_type": "markdown",
   "metadata": {},
   "source": [
    "* Find Elements by HTML Class Name"
   ]
  },
  {
   "cell_type": "markdown",
   "metadata": {},
   "source": [
    "TODO: \"If such a thing exists (1): What is the class that all the reviews are to be found in (2)\""
   ]
  },
  {
   "cell_type": "code",
   "execution_count": 20,
   "metadata": {},
   "outputs": [],
   "source": [
    "#review_elements = results.find_all(\"div\", class_ =\"a-size-base a-link-normal review-title a-color-base review-title-content a-text-bold\")"
   ]
  },
  {
   "cell_type": "code",
   "execution_count": 21,
   "metadata": {},
   "outputs": [],
   "source": [
    "# for job_element in job_elements:\n",
    "#     print(job_element, end=\"\\n\"*2)"
   ]
  }
 ],
 "metadata": {
  "kernelspec": {
   "display_name": "Python 3.8.10 ('base')",
   "language": "python",
   "name": "python3"
  },
  "language_info": {
   "codemirror_mode": {
    "name": "ipython",
    "version": 3
   },
   "file_extension": ".py",
   "mimetype": "text/x-python",
   "name": "python",
   "nbconvert_exporter": "python",
   "pygments_lexer": "ipython3",
   "version": "3.8.10"
  },
  "orig_nbformat": 4,
  "vscode": {
   "interpreter": {
    "hash": "24077151fa8d65a7af6e481e4133b8440019923ce093b0cdf9766e4a1a5d7be2"
   }
  }
 },
 "nbformat": 4,
 "nbformat_minor": 2
}
