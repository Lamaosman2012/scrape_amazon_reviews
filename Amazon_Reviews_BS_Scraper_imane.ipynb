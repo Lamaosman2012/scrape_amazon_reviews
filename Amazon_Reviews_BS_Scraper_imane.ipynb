{
 "cells": [
  {
   "cell_type": "code",
   "execution_count": 4,
   "id": "92fc76c8",
   "metadata": {},
   "outputs": [],
   "source": [
    "# import libraries \n",
    "\n",
    "from bs4 import BeautifulSoup\n",
    "import requests\n",
    "import pandas as pd"
   ]
  },
  {
   "cell_type": "code",
   "execution_count": 5,
   "id": "25c3b66f",
   "metadata": {},
   "outputs": [
    {
     "name": "stdout",
     "output_type": "stream",
     "text": [
      "\n",
      "            Galanz GLR16FS2K16 3 French Door Refrigerator with Bottom Freezer & Installed Ice Maker, 16 cu ft, Stainless Steel\n",
      "           \n"
     ]
    }
   ],
   "source": [
    "# Connect to the product Website and get the name and price of this\n",
    "URL = 'https://www.amazon.com/Galanz-GLR16FS2K16-Refrigerator-Adjustable-Electrical/dp/B08QVPBFCS/ref=cm_cr_arp_d_product_top?ie=UTF8'\n",
    "\n",
    "headers = {\"User-Agent\": \"Mozilla/5.0 (Windows NT 10.0; Win64; x64) AppleWebKit/537.36 (KHTML, like Gecko) Chrome/105.0.0.0 Safari/537.36\", \"Accept-Encoding\":\"gzip, deflate\", \"Accept\":\"text/html,application/xhtml+xml,application/xml;q=0.9,*/*;q=0.8\", \"DNT\":\"1\",\"Connection\":\"close\", \"Upgrade-Insecure-Requests\":\"1\"}\n",
    "\n",
    "page = requests.get(URL, headers=headers)\n",
    "\n",
    "soup1 = BeautifulSoup(page.content, \"html.parser\")\n",
    "\n",
    "soup = BeautifulSoup(soup1.prettify(), \"html.parser\")\n",
    "\n",
    "title = soup.find(id='productTitle').get_text()\n",
    "\n",
    "print(title)\n",
    "\n",
    "##No displayed Price for this product! if so>price = soup2.find(id='priceblock_ourprice').get_text()\n",
    "\n",
    "#print(title)\n",
    "##print(price)\n",
    "\n"
   ]
  },
  {
   "cell_type": "code",
   "execution_count": 6,
   "id": "b7ea662a",
   "metadata": {},
   "outputs": [
    {
     "name": "stdout",
     "output_type": "stream",
     "text": [
      "Amazon.com: Customer reviews: Galanz GLR16FS2K16 3 French Door Refrigerator with Bottom Freezer &amp; Installed Ice Maker, 16 cu ft, Stainless Steel\n"
     ]
    }
   ],
   "source": [
    "# Connect to the reviews Website and pull in data (eg.Title ?)\n",
    "\n",
    "URL = 'https://www.amazon.com/Galanz-GLR16FS2K16-Refrigerator-Adjustable-Electrical/product-reviews/B08QVPBFCS/ref=cm_cr_dp_d_show_all_btm?ie=UTF8&reviewerType=all_reviews'\n",
    "\n",
    "headers = {\"User-Agent\": \"Mozilla/5.0 (Windows NT 10.0; Win64; x64) AppleWebKit/537.36 (KHTML, like Gecko) Chrome/105.0.0.0 Safari/537.36\", \"Accept-Encoding\":\"gzip, deflate\", \"Accept\":\"text/html,application/xhtml+xml,application/xml;q=0.9,*/*;q=0.8\", \"DNT\":\"1\",\"Connection\":\"close\", \"Upgrade-Insecure-Requests\":\"1\"}\n",
    "\n",
    "page = requests.get(URL, headers=headers)\n",
    "\n",
    "soup1 = BeautifulSoup(page.content, \"html.parser\")\n",
    "\n",
    "soup = BeautifulSoup(soup1.prettify(), \"html.parser\")\n",
    "\n",
    "#print(soup2)\n",
    "print (soup.title.text.strip()) ##strip() to remove spaces\n"
   ]
  },
  {
   "cell_type": "code",
   "execution_count": 7,
   "id": "7a7a609b",
   "metadata": {},
   "outputs": [
    {
     "name": "stdout",
     "output_type": "stream",
     "text": [
      "Rare 3 door 30\" wide fridge\n",
      "Big let down. Never again.\n",
      "Avoid. Noisy, dim lights, poor design.\n",
      "SO FAR SO GOOD !\n",
      "Smaller than what I thought.\n",
      "Fridge was damaged on right side of lower door\n",
      "Nice roomy stainless steel refrigerator\n",
      "Don’t have to bend over to get your daily food.\n",
      "Nice frig for the money.\n",
      "Failed already!\n"
     ]
    }
   ],
   "source": [
    "## Get the reviews and loop through each one of them\n",
    "\n",
    "reviews = soup.find_all('div',{'data-hook':'review'})\n",
    "\n",
    "# Retrieve reviews titles\n",
    "for r in reviews:\n",
    "    print(r.find('a',{'data-hook':'review-title'}).text.strip())"
   ]
  },
  {
   "cell_type": "code",
   "execution_count": 8,
   "id": "ed7a9731",
   "metadata": {},
   "outputs": [
    {
     "name": "stdout",
     "output_type": "stream",
     "text": [
      "4.0 out of 5 stars\n",
      "5.0 out of 5 stars\n",
      "2.0 out of 5 stars\n",
      "5.0 out of 5 stars\n",
      "4.0 out of 5 stars\n",
      "5.0 out of 5 stars\n",
      "4.0 out of 5 stars\n",
      "5.0 out of 5 stars\n",
      "4.0 out of 5 stars\n",
      "1.0 out of 5 stars\n"
     ]
    }
   ],
   "source": [
    "# Retrieve reviews stars rating\n",
    "for r in reviews:\n",
    "    print(r.find('i', {'data-hook': 'review-star-rating'}).text.strip())"
   ]
  },
  {
   "cell_type": "code",
   "execution_count": 9,
   "id": "c5593be6",
   "metadata": {},
   "outputs": [
    {
     "name": "stdout",
     "output_type": "stream",
     "text": [
      "Reviewed in the United States 🇺🇸 on June 30, 2022\n",
      "Reviewed in the United States 🇺🇸 on May 8, 2021\n",
      "Reviewed in the United States 🇺🇸 on September 17, 2022\n",
      "Reviewed in the United States 🇺🇸 on November 4, 2021\n",
      "Reviewed in the United States 🇺🇸 on January 4, 2022\n",
      "Reviewed in the United States 🇺🇸 on June 5, 2022\n",
      "Reviewed in the United States 🇺🇸 on January 11, 2022\n",
      "Reviewed in the United States 🇺🇸 on April 4, 2022\n",
      "Reviewed in the United States 🇺🇸 on July 3, 2021\n",
      "Reviewed in the United States 🇺🇸 on December 2, 2021\n"
     ]
    }
   ],
   "source": [
    "# Retrieve reviews dates \n",
    "for r in reviews:\n",
    "    print(r.find('span', {'data-hook': 'review-date'}).text.strip())"
   ]
  },
  {
   "cell_type": "code",
   "execution_count": 10,
   "id": "bc87471b",
   "metadata": {},
   "outputs": [
    {
     "name": "stdout",
     "output_type": "stream",
     "text": [
      "This fridge has an upscale look and due to its height it fills out the cabiet space nicely. It's fairly quiet. I like the look of the doors without handles but you should know that that results in smudgy fingerprints. The doors have hidden pulls on the top and bottom but people reflexively handle the doors and they show the prints pretty obviously.\n",
      "7/2021 NEVER AGAIN.\n",
      "                 \n",
      "\n",
      "                 Top part worked May/June. Freezer never cooled down. July top part stopped cooling past 40’s. Called Galanz numerous times over the past month for a service request. Didn’t think to ask for a ticket number because they know my name/num/address which is all tied to calls and account. You get their overflow call center when you call. If you miss their call when they call you back, you have to call back to get in line again with their overflow call center. I never got to speak to anyone on a call that I initiated. They always say, we’ll all you back. Too bad and never mind if youre an adult with a job where you cant be glued to your phone.\n",
      "                 \n",
      "\n",
      "                 Today they finally say they *cannot* help me. They gave a number for service. Service tells me the roller coaster issue is a lost cause.  “Call Galanz back ma’am” Galanz tells me mail the following: cut the plug off, bag it, take the serial number stickers off, any stickers, mail them by USPS only. In 8-10 wks you’ll be issued a check for the base price minus taxes. You dispose of the machine at your own cost.”\n",
      "                 \n",
      "\n",
      "                 So what shall I do without a fridge for 8-10 wks? I have to to pay for its disposal and no refund on taxes and warranty cost? Assurant would not step in to help because it was less than a year.\n",
      "                 \n",
      "\n",
      "                 I would not recommend to anyone!\n",
      "                 \n",
      "\n",
      "                 5/2021\n",
      "                 \n",
      "                 I like how sleek it looks. Love the doors and freezer on the bottom. Has tiny casters/wheels that I hope hold up and are nice to my wooden floors.\n",
      "                 \n",
      "\n",
      "                 Just one tiny issue, i am missing a tiny couple of screws that go into the handle and tighten with a small wrench. I called amazon and they tried to say they would send a whole new fridge. Completely unnecessary for something found within the fridge packaging. Called and left a message. Never got a call back.\n",
      "Very loud. I hear this thing from the second floor of my house. It was damaged when it arrived. The lights are very dim. The ice maker is super slow. And, you have to open both doors to access the left crisper drawer. Extremely disappointed. Will try to return for sure.\n",
      "I never thought I would purchase an appliance from AMZN, but I could not find anything else under 30” width that I liked.\n",
      "                 \n",
      "                 I waited to review the performance so I could give an accurate review. It arrived with a couple of tiny packing dents on the left door so I was refunded a small portion of $$ and I kept it.\n",
      "                 \n",
      "                 You will need an extra few inches in width to accommodate the full opening of the double doors. Remember, the delivery option is just basically drop and go but does not include set-up or connecting the ice-maker.\n",
      "                 \n",
      "                 If you plan on using that feature, be sure you have an actual installer with you upon delivery. You will also need to attach the handles to the doors with the tools provided.\n",
      "                 \n",
      "                 Very happy with the craftsmanship and the performance so far. The wheels on the bottom seem very sturdy and makes it easy to maneuver.  BRAVO !!\n",
      "We received our fridge with a broken glass shelf, which wasn’t nice to open and all the glass to scatter through my kitchen. A lot narrow than I thought, very beautiful but not much space for storage.\n",
      "Fridge is beautiful and git cold within thirty minutes and the Amazon delivery man was nice and carful with delivery as he put fridge in my room of choice, was in the kitchen.\n",
      "                 \n",
      "                 Unfortunately, when I took off boxing and plastic, the lower right door of fridge was bent.\n",
      "Only complaints are there was a small dent on the top of fridge and the door on the left makes a loud noise when it is opened and closed.\n",
      "I personally dislike ice makers so this works perfectly for us . ( Elderly people have trouble bending over.)  I’m very pleased with this size for our small retirement cottage.\n",
      "Haven't had long but so far so good!!\n",
      "01-05-22\n",
      "                 \n",
      "                 Finally got an email notifying me that the request has been handed off to local a service technician.  Have not been contacted yet as to when they will actually come out to fix the refrigerator.\n",
      "                 \n",
      "\n",
      "                 12-28-21\n",
      "                 \n",
      "                 Still no word back from the service rep, sent an email about a week ago with no updates so far. Nearly a month of waiting without a refrigerator.\n",
      "                 \n",
      "\n",
      "                 12-17-21\n",
      "                 \n",
      "                 2 weeks of waiting, still no fridge to use, for a service rep to contact me about when they will fix the fridge. Called them about a week ago and no progress.\n",
      "                 \n",
      "\n",
      "                 12-02-21\n",
      "                 \n",
      "                 6 months in and the fridge has already failed. Customer service has been great!\n",
      "                 \n",
      "                 I have a feeling it’ll fail in another 6 months just outside of warranty.  I’ll be taking notes when the tech is here for repairs.\n"
     ]
    }
   ],
   "source": [
    "# Retrieve reviews text or body \n",
    "for r in reviews:\n",
    "    print(r.find('span', {'data-hook': 'review-body'}).text.strip())"
   ]
  },
  {
   "cell_type": "code",
   "execution_count": 11,
   "id": "d45d3694",
   "metadata": {},
   "outputs": [
    {
     "name": "stdout",
     "output_type": "stream",
     "text": [
      "{'product_name': 'Galanz GLR16FS2K16 3 French Door Refrigerator with Bottom Freezer &amp; Installed Ice Maker, 16 cu ft, Stainless Steel', 'review_title': 'Rare 3 door 30\" wide fridge', 'review_stars': '4.0 out of 5 stars', 'review_date': 'Reviewed in the United States 🇺🇸 on June 30, 2022', 'review_body': \"This fridge has an upscale look and due to its height it fills out the cabiet space nicely. It's fairly quiet. I like the look of the doors without handles but you should know that that results in smudgy fingerprints. The doors have hidden pulls on the top and bottom but people reflexively handle the doors and they show the prints pretty obviously.\"}\n",
      "{'product_name': 'Galanz GLR16FS2K16 3 French Door Refrigerator with Bottom Freezer &amp; Installed Ice Maker, 16 cu ft, Stainless Steel', 'review_title': 'Big let down. Never again.', 'review_stars': '5.0 out of 5 stars', 'review_date': 'Reviewed in the United States 🇺🇸 on May 8, 2021', 'review_body': '7/2021 NEVER AGAIN.\\n                 \\n\\n                 Top part worked May/June. Freezer never cooled down. July top part stopped cooling past 40’s. Called Galanz numerous times over the past month for a service request. Didn’t think to ask for a ticket number because they know my name/num/address which is all tied to calls and account. You get their overflow call center when you call. If you miss their call when they call you back, you have to call back to get in line again with their overflow call center. I never got to speak to anyone on a call that I initiated. They always say, we’ll all you back. Too bad and never mind if youre an adult with a job where you cant be glued to your phone.\\n                 \\n\\n                 Today they finally say they *cannot* help me. They gave a number for service. Service tells me the roller coaster issue is a lost cause.  “Call Galanz back ma’am” Galanz tells me mail the following: cut the plug off, bag it, take the serial number stickers off, any stickers, mail them by USPS only. In 8-10 wks you’ll be issued a check for the base price minus taxes. You dispose of the machine at your own cost.”\\n                 \\n\\n                 So what shall I do without a fridge for 8-10 wks? I have to to pay for its disposal and no refund on taxes and warranty cost? Assurant would not step in to help because it was less than a year.\\n                 \\n\\n                 I would not recommend to anyone!\\n                 \\n\\n                 5/2021\\n                 \\n                 I like how sleek it looks. Love the doors and freezer on the bottom. Has tiny casters/wheels that I hope hold up and are nice to my wooden floors.\\n                 \\n\\n                 Just one tiny issue, i am missing a tiny couple of screws that go into the handle and tighten with a small wrench. I called amazon and they tried to say they would send a whole new fridge. Completely unnecessary for something found within the fridge packaging. Called and left a message. Never got a call back.'}\n",
      "{'product_name': 'Galanz GLR16FS2K16 3 French Door Refrigerator with Bottom Freezer &amp; Installed Ice Maker, 16 cu ft, Stainless Steel', 'review_title': 'Avoid. Noisy, dim lights, poor design.', 'review_stars': '2.0 out of 5 stars', 'review_date': 'Reviewed in the United States 🇺🇸 on September 17, 2022', 'review_body': 'Very loud. I hear this thing from the second floor of my house. It was damaged when it arrived. The lights are very dim. The ice maker is super slow. And, you have to open both doors to access the left crisper drawer. Extremely disappointed. Will try to return for sure.'}\n",
      "{'product_name': 'Galanz GLR16FS2K16 3 French Door Refrigerator with Bottom Freezer &amp; Installed Ice Maker, 16 cu ft, Stainless Steel', 'review_title': 'SO FAR SO GOOD !', 'review_stars': '5.0 out of 5 stars', 'review_date': 'Reviewed in the United States 🇺🇸 on November 4, 2021', 'review_body': 'I never thought I would purchase an appliance from AMZN, but I could not find anything else under 30” width that I liked.\\n                 \\n                 I waited to review the performance so I could give an accurate review. It arrived with a couple of tiny packing dents on the left door so I was refunded a small portion of $$ and I kept it.\\n                 \\n                 You will need an extra few inches in width to accommodate the full opening of the double doors. Remember, the delivery option is just basically drop and go but does not include set-up or connecting the ice-maker.\\n                 \\n                 If you plan on using that feature, be sure you have an actual installer with you upon delivery. You will also need to attach the handles to the doors with the tools provided.\\n                 \\n                 Very happy with the craftsmanship and the performance so far. The wheels on the bottom seem very sturdy and makes it easy to maneuver.  BRAVO !!'}\n",
      "{'product_name': 'Galanz GLR16FS2K16 3 French Door Refrigerator with Bottom Freezer &amp; Installed Ice Maker, 16 cu ft, Stainless Steel', 'review_title': 'Smaller than what I thought.', 'review_stars': '4.0 out of 5 stars', 'review_date': 'Reviewed in the United States 🇺🇸 on January 4, 2022', 'review_body': 'We received our fridge with a broken glass shelf, which wasn’t nice to open and all the glass to scatter through my kitchen. A lot narrow than I thought, very beautiful but not much space for storage.'}\n",
      "{'product_name': 'Galanz GLR16FS2K16 3 French Door Refrigerator with Bottom Freezer &amp; Installed Ice Maker, 16 cu ft, Stainless Steel', 'review_title': 'Fridge was damaged on right side of lower door', 'review_stars': '5.0 out of 5 stars', 'review_date': 'Reviewed in the United States 🇺🇸 on June 5, 2022', 'review_body': 'Fridge is beautiful and git cold within thirty minutes and the Amazon delivery man was nice and carful with delivery as he put fridge in my room of choice, was in the kitchen.\\n                 \\n                 Unfortunately, when I took off boxing and plastic, the lower right door of fridge was bent.'}\n",
      "{'product_name': 'Galanz GLR16FS2K16 3 French Door Refrigerator with Bottom Freezer &amp; Installed Ice Maker, 16 cu ft, Stainless Steel', 'review_title': 'Nice roomy stainless steel refrigerator', 'review_stars': '4.0 out of 5 stars', 'review_date': 'Reviewed in the United States 🇺🇸 on January 11, 2022', 'review_body': 'Only complaints are there was a small dent on the top of fridge and the door on the left makes a loud noise when it is opened and closed.'}\n",
      "{'product_name': 'Galanz GLR16FS2K16 3 French Door Refrigerator with Bottom Freezer &amp; Installed Ice Maker, 16 cu ft, Stainless Steel', 'review_title': 'Don’t have to bend over to get your daily food.', 'review_stars': '5.0 out of 5 stars', 'review_date': 'Reviewed in the United States 🇺🇸 on April 4, 2022', 'review_body': 'I personally dislike ice makers so this works perfectly for us . ( Elderly people have trouble bending over.)  I’m very pleased with this size for our small retirement cottage.'}\n",
      "{'product_name': 'Galanz GLR16FS2K16 3 French Door Refrigerator with Bottom Freezer &amp; Installed Ice Maker, 16 cu ft, Stainless Steel', 'review_title': 'Nice frig for the money.', 'review_stars': '4.0 out of 5 stars', 'review_date': 'Reviewed in the United States 🇺🇸 on July 3, 2021', 'review_body': \"Haven't had long but so far so good!!\"}\n",
      "{'product_name': 'Galanz GLR16FS2K16 3 French Door Refrigerator with Bottom Freezer &amp; Installed Ice Maker, 16 cu ft, Stainless Steel', 'review_title': 'Failed already!', 'review_stars': '1.0 out of 5 stars', 'review_date': 'Reviewed in the United States 🇺🇸 on December 2, 2021', 'review_body': '01-05-22\\n                 \\n                 Finally got an email notifying me that the request has been handed off to local a service technician.  Have not been contacted yet as to when they will actually come out to fix the refrigerator.\\n                 \\n\\n                 12-28-21\\n                 \\n                 Still no word back from the service rep, sent an email about a week ago with no updates so far. Nearly a month of waiting without a refrigerator.\\n                 \\n\\n                 12-17-21\\n                 \\n                 2 weeks of waiting, still no fridge to use, for a service rep to contact me about when they will fix the fridge. Called them about a week ago and no progress.\\n                 \\n\\n                 12-02-21\\n                 \\n                 6 months in and the fridge has already failed. Customer service has been great!\\n                 \\n                 I have a feeling it’ll fail in another 6 months just outside of warranty.  I’ll be taking notes when the tech is here for repairs.'}\n"
     ]
    }
   ],
   "source": [
    "# group all retrieved variables in a dictonary \n",
    "\n",
    "for r in reviews:\n",
    "    review = { \n",
    "        'product_name':soup.title.text.replace('Amazon.com: Customer reviews:',' ').strip(),##we removed the start \n",
    "        'review_title': r.find('a',{'data-hook':'review-title'}).text.strip(),\n",
    "        'review_stars': r.find('i', {'data-hook': 'review-star-rating'}).text.strip(),\n",
    "        'review_date': r.find('span', {'data-hook': 'review-date'}).text.strip(),\n",
    "        'review_body': r.find('span', {'data-hook': 'review-body'}).text.strip()\n",
    "    }\n",
    "    print(review)\n",
    "        \n",
    "        \n",
    "        "
   ]
  },
  {
   "cell_type": "code",
   "execution_count": 12,
   "id": "f6ec6674",
   "metadata": {},
   "outputs": [],
   "source": [
    "# Done, we get the reviews, but only on the first page, we need to have them for all pages!\n",
    "\n",
    "# First let's make what did as functions 1:get_soup() 2:get_review(), at the end we want a list of all reviews []\n",
    "\n",
    "# First create an empty list variable \n",
    "reviews_list = []\n",
    "\n",
    "# Create a function where we get the soup of a specific URL\n",
    "def get_soup(irl):\n",
    "    headers = {\"User-Agent\": \"Mozilla/5.0 (Windows NT 10.0; Win64; x64) AppleWebKit/537.36 (KHTML, like Gecko) Chrome/105.0.0.0 Safari/537.36\", \"Accept-Encoding\":\"gzip, deflate\", \"Accept\":\"text/html,application/xhtml+xml,application/xml;q=0.9,*/*;q=0.8\", \"DNT\":\"1\",\"Connection\":\"close\", \"Upgrade-Insecure-Requests\":\"1\"}\n",
    "    page = requests.get(URL, headers=headers)\n",
    "    soup1 = BeautifulSoup(page.content, \"html.parser\")\n",
    "    soup = BeautifulSoup(soup1.prettify(), \"html.parser\")\n",
    "    return soup \n"
   ]
  },
  {
   "cell_type": "code",
   "execution_count": 13,
   "id": "2146e454",
   "metadata": {},
   "outputs": [],
   "source": [
    "# Define a function where we get the reviews from a soup\n",
    "def get_reviews(soup):\n",
    "    try:\n",
    "        for r in reviews:\n",
    "            review = { \n",
    "                'product_name':soup.title.text.replace('Amazon.com: Customer reviews:',' ').strip(),##we removed the start \n",
    "                'review_title': r.find('a',{'data-hook':'review-title'}).text.strip(),\n",
    "                'review_stars': r.find('i', {'data-hook': 'review-star-rating'}).text.strip(),\n",
    "                'review_date': r.find('span', {'data-hook': 'review-date'}).text.strip(),\n",
    "                'review_body': r.find('span', {'data-hook': 'review-body'}).text.strip()\n",
    "            }\n",
    "            reviews_list.append(review)\n",
    "    except:\n",
    "        pass\n",
    "\n",
    "    #for each page\n",
    "for i in range(1,4):\n",
    "    soup = get_soup(f'https://www.amazon.com/Galanz-GLR16FS2K16-Refrigerator-Adjustable-Electrical/product-reviews/B08QVPBFCS/ref=cm_cr_getr_d_paging_btm_prev_1?ie=UTF8&reviewerType=all_reviews&pageNumber={i}')\n",
    "    get_reviews(soup)\n",
    "    ##print(len(reviews_list))\n",
    "    if not soup.find('li',{'class':'a-disabled a-last'}):\n",
    "        pass\n",
    "    else:\n",
    "        break\n",
    "        "
   ]
  },
  {
   "cell_type": "code",
   "execution_count": 14,
   "id": "907bec44",
   "metadata": {},
   "outputs": [
    {
     "name": "stdout",
     "output_type": "stream",
     "text": [
      "Fin.\n"
     ]
    }
   ],
   "source": [
    "# Create an excel file of the reviews\n",
    "df = pd.DataFrame(reviews_list)\n",
    "df.to_excel('fridge_amazon_reviews.xlsx', index=False)\n",
    "print('Fin.')"
   ]
  },
  {
   "cell_type": "code",
   "execution_count": null,
   "id": "023fec5b",
   "metadata": {},
   "outputs": [],
   "source": []
  }
 ],
 "metadata": {
  "kernelspec": {
   "display_name": "Python 3.9.12 ('base')",
   "language": "python",
   "name": "python3"
  },
  "language_info": {
   "codemirror_mode": {
    "name": "ipython",
    "version": 3
   },
   "file_extension": ".py",
   "mimetype": "text/x-python",
   "name": "python",
   "nbconvert_exporter": "python",
   "pygments_lexer": "ipython3",
   "version": "3.9.12"
  },
  "vscode": {
   "interpreter": {
    "hash": "49cb649882ee53bbf11b03672646ae82d93c312893961de863bca9477e6541cf"
   }
  }
 },
 "nbformat": 4,
 "nbformat_minor": 5
}
