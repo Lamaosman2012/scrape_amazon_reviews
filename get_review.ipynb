{
 "cells": [
  {
   "cell_type": "code",
   "execution_count": 2,
   "metadata": {},
   "outputs": [],
   "source": [
    "import requests\n",
    "from bs4 import BeautifulSoup"
   ]
  },
  {
   "cell_type": "code",
   "execution_count": 16,
   "metadata": {},
   "outputs": [
    {
     "name": "stdout",
     "output_type": "stream",
     "text": [
      "<!--\n",
      "        To discuss automated access to Amazon data please contact api-services-support@amazon.com.\n",
      "        For information about migrating to our APIs refer to our Marketplace APIs at https://developer.amazonservices.com/ref=rm_5_sv, or our Product Advertising API at https://affiliate-program.amazon.com/gp/advertising/api/detail/main.html/ref=rm_5_ac for advertising use cases.\n",
      "-->\n",
      "<!doctype html>\n",
      "<html>\n",
      "<head>\n",
      "  <meta charset=\"utf-8\">\n",
      "  <meta http-equiv=\"x-ua-compatible\" content=\"ie=edge\">\n",
      "  <meta name=\"viewport\" content=\"width=device-width, initial-scale=1, shrink-to-fit=no\">\n",
      "  <title>Sorry! Something went wrong!</title>\n",
      "  <style>\n",
      "  html, body {\n",
      "    padding: 0;\n",
      "    margin: 0\n",
      "  }\n",
      "\n",
      "  img {\n",
      "    border: 0\n",
      "  }\n",
      "\n",
      "  #a {\n",
      "    background: #232f3e;\n",
      "    padding: 11px 11px 11px 192px\n",
      "  }\n",
      "\n",
      "  #b {\n",
      "    position: absolute;\n",
      "    left: 22px;\n",
      "    top: 12px\n",
      "  }\n",
      "\n",
      "  #c {\n",
      "    position: relative;\n",
      "    max-width: 800px;\n",
      "    padding: 0 40px 0 0\n",
      "  }\n",
      "\n",
      "  #e, #f {\n",
      "    height: 35px;\n",
      "    border: 0;\n",
      "    font-size: 1em\n",
      "  }\n",
      "\n",
      "  #e {\n",
      "    width: 100%;\n",
      "    margin: 0;\n",
      "    padding: 0 10px;\n",
      "    border-radius: 4px 0 0 4px\n",
      "  }\n",
      "\n",
      "  #f {\n",
      "    cursor: pointer;\n",
      "    background: #febd69;\n",
      "    font-weight: bold;\n",
      "    border-radius: 0 4px 4px 0;\n",
      "    -webkit-appearance: none;\n",
      "    position: absolute;\n",
      "    top: 0;\n",
      "    right: 0;\n",
      "    padding: 0 12px\n",
      "  }\n",
      "\n",
      "  @media (max-width: 500px) {\n",
      "    #a {\n",
      "      padding: 55px 10px 10px\n",
      "    }\n",
      "\n",
      "    #b {\n",
      "      left: 6px\n",
      "    }\n",
      "  }\n",
      "\n",
      "  #g {\n",
      "    text-align: center;\n",
      "    margin: 30px 0\n",
      "  }\n",
      "\n",
      "  #g img {\n",
      "    max-width: 90%\n",
      "  }\n",
      "\n",
      "  #d {\n",
      "    display: none\n",
      "  }\n",
      "\n",
      "  #d[src] {\n",
      "    display: inline\n",
      "  }\n",
      "  </style>\n",
      "</head>\n",
      "<body>\n",
      "    <a href=\"/ref=cs_503_logo\"><img id=\"b\" src=\"https://images-na.ssl-images-amazon.com/images/G/01/error/logo._TTD_.png\" alt=\"Amazon.com\"></a>\n",
      "    <form id=\"a\" accept-charset=\"utf-8\" action=\"/s\" method=\"GET\" role=\"search\">\n",
      "        <div id=\"c\">\n",
      "            <input id=\"e\" name=\"field-keywords\" placeholder=\"Search\">\n",
      "            <input name=\"ref\" type=\"hidden\" value=\"cs_503_search\">\n",
      "            <input id=\"f\" type=\"submit\" value=\"Go\">\n",
      "        </div>\n",
      "    </form>\n",
      "<div id=\"g\">\n",
      "  <div><a href=\"/ref=cs_503_link\"><img src=\"https://images-na.ssl-images-amazon.com/images/G/01/error/500_503.png\"\n",
      "                                        alt=\"Sorry! Something went wrong on our end. Please go back and try again or go to Amazon's home page.\"></a>\n",
      "  </div>\n",
      "  <a href=\"/dogsofamazon/ref=cs_503_d\" target=\"_blank\" rel=\"noopener noreferrer\"><img id=\"d\" alt=\"Dogs of Amazon\"></a>\n",
      "  <script>document.getElementById(\"d\").src = \"https://images-na.ssl-images-amazon.com/images/G/01/error/\" + (Math.floor(Math.random() * 43) + 1) + \"._TTD_.jpg\";</script>\n",
      "</div>\n",
      "</body>\n",
      "</html>\n",
      "\n"
     ]
    }
   ],
   "source": [
    "URL = \"https://www.amazon.com/Galanz-GLR16FS2K16-Refrigerator-Adjustable-Electrical/dp/B08QVPBFCS/ref=sr_1_4?crid=SU89OHS4KPMI&keywords=fridge&qid=1663609187&sprefix=fridge%2Caps%2C365&sr=8-4\"\n",
    "page = requests.get(URL)\n",
    "\n",
    "print(page.text)"
   ]
  },
  {
   "cell_type": "code",
   "execution_count": 5,
   "metadata": {},
   "outputs": [],
   "source": [
    "soup = BeautifulSoup(page.content, \"html.parser\")"
   ]
  },
  {
   "cell_type": "markdown",
   "metadata": {},
   "source": [
    "Beautiful Soup allows you to find that specific HTML element by its ID:"
   ]
  },
  {
   "cell_type": "code",
   "execution_count": 11,
   "metadata": {},
   "outputs": [
    {
     "name": "stdout",
     "output_type": "stream",
     "text": [
      "None\n"
     ]
    }
   ],
   "source": [
    "results = soup.find(id=\"cm-cr-dp-review-header\")\n",
    "print(results)"
   ]
  },
  {
   "cell_type": "markdown",
   "metadata": {},
   "source": [
    "HTML contained within the div:"
   ]
  },
  {
   "cell_type": "code",
   "execution_count": 8,
   "metadata": {},
   "outputs": [
    {
     "ename": "AttributeError",
     "evalue": "'NoneType' object has no attribute 'prettify'",
     "output_type": "error",
     "traceback": [
      "\u001b[0;31m---------------------------------------------------------------------------\u001b[0m",
      "\u001b[0;31mAttributeError\u001b[0m                            Traceback (most recent call last)",
      "\u001b[0;32m/tmp/ipykernel_53217/1650054273.py\u001b[0m in \u001b[0;36m<module>\u001b[0;34m\u001b[0m\n\u001b[0;32m----> 1\u001b[0;31m \u001b[0mprint\u001b[0m\u001b[0;34m(\u001b[0m\u001b[0mresults\u001b[0m\u001b[0;34m.\u001b[0m\u001b[0mprettify\u001b[0m\u001b[0;34m(\u001b[0m\u001b[0;34m)\u001b[0m\u001b[0;34m)\u001b[0m\u001b[0;34m\u001b[0m\u001b[0;34m\u001b[0m\u001b[0m\n\u001b[0m",
      "\u001b[0;31mAttributeError\u001b[0m: 'NoneType' object has no attribute 'prettify'"
     ]
    }
   ],
   "source": [
    "print(results.prettify())"
   ]
  },
  {
   "cell_type": "markdown",
   "metadata": {},
   "source": [
    "* Find Elements by HTML Class Name"
   ]
  },
  {
   "cell_type": "markdown",
   "metadata": {},
   "source": [
    "TODO: \"If such a thing exists (1): What is the class that all the reviews are to be found in (2)\""
   ]
  },
  {
   "cell_type": "code",
   "execution_count": 18,
   "metadata": {},
   "outputs": [
    {
     "ename": "AttributeError",
     "evalue": "'NoneType' object has no attribute 'find_all'",
     "output_type": "error",
     "traceback": [
      "\u001b[0;31m---------------------------------------------------------------------------\u001b[0m",
      "\u001b[0;31mAttributeError\u001b[0m                            Traceback (most recent call last)",
      "\u001b[0;32m/tmp/ipykernel_53217/1918374828.py\u001b[0m in \u001b[0;36m<module>\u001b[0;34m\u001b[0m\n\u001b[0;32m----> 1\u001b[0;31m \u001b[0mreview_elements\u001b[0m \u001b[0;34m=\u001b[0m \u001b[0mresults\u001b[0m\u001b[0;34m.\u001b[0m\u001b[0mfind_all\u001b[0m\u001b[0;34m(\u001b[0m\u001b[0;34m\"div\"\u001b[0m\u001b[0;34m,\u001b[0m \u001b[0mclass_\u001b[0m \u001b[0;34m=\u001b[0m\u001b[0;34m\"a-size-base a-link-normal review-title a-color-base review-title-content a-text-bold\"\u001b[0m\u001b[0;34m)\u001b[0m\u001b[0;34m\u001b[0m\u001b[0;34m\u001b[0m\u001b[0m\n\u001b[0m",
      "\u001b[0;31mAttributeError\u001b[0m: 'NoneType' object has no attribute 'find_all'"
     ]
    }
   ],
   "source": [
    "#review_elements = results.find_all(\"div\", class_ =\"a-size-base a-link-normal review-title a-color-base review-title-content a-text-bold\")"
   ]
  },
  {
   "cell_type": "code",
   "execution_count": 1,
   "metadata": {},
   "outputs": [],
   "source": [
    "# for job_element in job_elements:\n",
    "#     print(job_element, end=\"\\n\"*2)"
   ]
  }
 ],
 "metadata": {
  "kernelspec": {
   "display_name": "Python 3.8.10 ('base')",
   "language": "python",
   "name": "python3"
  },
  "language_info": {
   "codemirror_mode": {
    "name": "ipython",
    "version": 3
   },
   "file_extension": ".py",
   "mimetype": "text/x-python",
   "name": "python",
   "nbconvert_exporter": "python",
   "pygments_lexer": "ipython3",
   "version": "3.8.10"
  },
  "orig_nbformat": 4,
  "vscode": {
   "interpreter": {
    "hash": "24077151fa8d65a7af6e481e4133b8440019923ce093b0cdf9766e4a1a5d7be2"
   }
  }
 },
 "nbformat": 4,
 "nbformat_minor": 2
}
